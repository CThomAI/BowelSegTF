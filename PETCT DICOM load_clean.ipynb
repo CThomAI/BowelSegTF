{
 "cells": [
  {
   "cell_type": "markdown",
   "metadata": {},
   "source": [
    "## Import and prep CTpet and PET data"
   ]
  },
  {
   "cell_type": "markdown",
   "metadata": {},
   "source": [
    "script copied from \"CT and PET DICOM load and resample\""
   ]
  },
  {
   "cell_type": "code",
   "execution_count": null,
   "metadata": {},
   "outputs": [],
   "source": [
    "import dicom\n",
    "import dicom_numpy\n",
    "import os\n",
    "import numpy as np\n",
    "from numpy import flip\n",
    "import nibabel as nib\n",
    "from matplotlib import pyplot as plt, cm\n",
    "from matplotlib import image\n",
    "import math\n",
    "from scipy.ndimage import zoom\n",
    "import SimpleITK as sitk\n",
    "import re\n",
    "import datetime"
   ]
  },
  {
   "cell_type": "code",
   "execution_count": null,
   "metadata": {},
   "outputs": [],
   "source": [
    "baseCT = \"D:/CNNdata/Bowel_Segmentation/RATHL_Data_Validation/CT\"\n",
    "basePET = \"D:/CNNdata/Bowel_Segmentation/RATHL_Data_Validation/PT\"\n",
    "ID = 11"
   ]
  },
  {
   "cell_type": "code",
   "execution_count": null,
   "metadata": {},
   "outputs": [],
   "source": [
    "PathDicomCT = os.path.join(str(baseCT) + str(ID))"
   ]
  },
  {
   "cell_type": "code",
   "execution_count": null,
   "metadata": {},
   "outputs": [],
   "source": [
    "# function to extract voxel data from DICOM to Numpy using the dicom_numpy module\n",
    "# seems to take into account the rescale intercept appropriately\n",
    "\n",
    "def extract_voxel_data(list_of_dicom_files):\n",
    "    datasets = [dicom.read_file(f) for f in list_of_dicom_files]\n",
    "    try:\n",
    "        voxel_ndarray, ijk_to_xyz = dicom_numpy.combine_slices(datasets)\n",
    "    except dicom_numpy.DicomImportException as e:\n",
    "        # invalid DICOM data\n",
    "        raise\n",
    "    return voxel_ndarray"
   ]
  },
  {
   "cell_type": "code",
   "execution_count": null,
   "metadata": {},
   "outputs": [],
   "source": [
    "## create the list of DICOM files in the CT and PET folders\n",
    "\n",
    "lstFilesDCM_CT = []  # create an empty list\n",
    "for dirName, subdirList, fileList in os.walk(PathDicomCT):\n",
    "    for filename in fileList:\n",
    "        if \".dcm\" in filename.lower():  # check whether the file's DICOM\n",
    "            lstFilesDCM_CT.append(os.path.join(dirName,filename))\n",
    "\n",
    "PathDicomPET = os.path.join(str(basePET) + str(ID))\n",
    "lstFilesDCM_PET = []  # create an empty list\n",
    "for dirName, subdirList, fileList in os.walk(PathDicomPET):\n",
    "    for filename in fileList:\n",
    "        if \".dcm\" in filename.lower():  # check whether the file's DICOM\n",
    "            lstFilesDCM_PET.append(os.path.join(dirName,filename))    "
   ]
  },
  {
   "cell_type": "code",
   "execution_count": null,
   "metadata": {},
   "outputs": [],
   "source": []
  },
  {
   "cell_type": "code",
   "execution_count": null,
   "metadata": {},
   "outputs": [],
   "source": [
    "# Get header info from CT\n",
    "RefCT = dicom.read_file(lstFilesDCM_CT[0])\n",
    "\n",
    "# Load dimensions based on the number of rows, columns, and slices (along the Z axis)\n",
    "ConstPixelDims_CT = (int(RefCT.Rows), int(RefCT.Columns), len(lstFilesDCM_CT))\n",
    "\n",
    "# Load spacing values (in mm)\n",
    "ConstPixelSpacing = (float(RefCT.PixelSpacing[0]), float(RefCT.PixelSpacing[1]), float(RefCT.SliceThickness))\n",
    "CTReconDiameter = round((RefCT.PixelSpacing[0]) * (RefCT.Rows))"
   ]
  },
  {
   "cell_type": "code",
   "execution_count": null,
   "metadata": {},
   "outputs": [],
   "source": [
    "# This is needed later to find the slice number of the first slice of BB\n",
    "# The array is sized based on 'ConstPixelDims'\n",
    "a_CT = np.zeros(ConstPixelDims_CT[2])\n",
    "i=0\n",
    "# loop through all the DICOM files, reading the slice numbers to array\n",
    "for filenameDCM in lstFilesDCM_CT:\n",
    "    dsCT = dicom.read_file(filenameDCM)\n",
    "    sliceNumber = dsCT.ImagePositionPatient[2]\n",
    "    a_CT[i] = sliceNumber\n",
    "    i=i+1\n",
    "    \n",
    "b_CT = np.sort(a_CT, axis=-1, kind='quicksort', order=None) #element 0 is inf-most slice\n",
    "#b_CT"
   ]
  },
  {
   "cell_type": "code",
   "execution_count": null,
   "metadata": {},
   "outputs": [],
   "source": [
    "# BBstartslice = b_CT[(Patients[ID][1])]\n",
    "# print(\"BBstartslice = \", BBstartslice)"
   ]
  },
  {
   "cell_type": "code",
   "execution_count": null,
   "metadata": {},
   "outputs": [],
   "source": [
    "CTarray = extract_voxel_data(lstFilesDCM_CT)"
   ]
  },
  {
   "cell_type": "code",
   "execution_count": null,
   "metadata": {
    "scrolled": true
   },
   "outputs": [],
   "source": [
    "PETarray = extract_voxel_data(lstFilesDCM_PET)"
   ]
  },
  {
   "cell_type": "code",
   "execution_count": null,
   "metadata": {},
   "outputs": [],
   "source": [
    "#some CT data has a ring of -3000 values around the FOV circle ... not sure why\n",
    "CTarray[CTarray < -1000] = -1000"
   ]
  },
  {
   "cell_type": "code",
   "execution_count": null,
   "metadata": {},
   "outputs": [],
   "source": [
    "np.shape(CTarray)"
   ]
  },
  {
   "cell_type": "code",
   "execution_count": null,
   "metadata": {},
   "outputs": [],
   "source": [
    "s = 99\n",
    "fig = plt.figure(figsize=(6, 6))\n",
    "im1 = plt.imshow(CTarray[:,:,s], vmin = -200, vmax = 500, cmap='gray')\n",
    "im1 = plt.clim(-200,300)\n",
    "plt.show()"
   ]
  },
  {
   "cell_type": "code",
   "execution_count": null,
   "metadata": {},
   "outputs": [],
   "source": [
    "# Get header info from PET\n",
    "RefPET = dicom.read_file(lstFilesDCM_PET[0])\n",
    "# Load dimensions based on the number of rows, columns, and slices (along the Z axis)\n",
    "ConstPixelDims_PET = (int(RefPET.Rows), int(RefPET.Columns), len(lstFilesDCM_PET))\n",
    "# Load spacing values (in mm)\n",
    "ConstPixelSpacing_PET = (float(RefPET.PixelSpacing[0]), float(RefPET.PixelSpacing[1]), float(RefPET.SliceThickness))\n",
    "\n",
    "PETReconDiameter = round((RefPET.PixelSpacing[0]) * (RefPET.Rows))\n",
    "#PETReconDiameter"
   ]
  },
  {
   "cell_type": "code",
   "execution_count": null,
   "metadata": {},
   "outputs": [],
   "source": [
    "CTarrayExpand = np.expand_dims(CTarray, axis = 0) # adds a dimension\n",
    "CTarrayTrans = np.transpose(CTarrayExpand, (3,0,1,2)) #numbers indicate where the original dimension should go\n",
    "CTarrayNew = np.rot90(CTarrayTrans,1,(2,3))"
   ]
  },
  {
   "cell_type": "code",
   "execution_count": null,
   "metadata": {},
   "outputs": [],
   "source": [
    "s = 99\n",
    "fig = plt.figure(figsize=(6, 6))\n",
    "im1 = plt.imshow(CTarrayNew[s,0,:,:], vmin = -200, vmax = 500, cmap='gray')\n",
    "im1 = plt.clim(-200,300)\n",
    "plt.show()"
   ]
  },
  {
   "cell_type": "code",
   "execution_count": null,
   "metadata": {},
   "outputs": [],
   "source": [
    "PETarrayExpand = np.expand_dims(PETarray, axis = 0) # adds a dimension\n",
    "PETarrayTrans = np.transpose(PETarrayExpand, (3,0,1,2)) #numbers indicate where the original dimension should go\n",
    "PETarrayNew = np.rot90(PETarrayTrans,1,(2,3))"
   ]
  },
  {
   "cell_type": "code",
   "execution_count": null,
   "metadata": {},
   "outputs": [],
   "source": [
    "np.shape(PETarrayNew)"
   ]
  },
  {
   "cell_type": "markdown",
   "metadata": {},
   "source": [
    "# Resizing CT to match PET dimensions"
   ]
  },
  {
   "cell_type": "code",
   "execution_count": null,
   "metadata": {},
   "outputs": [],
   "source": [
    "padextra = round((round((PETReconDiameter/CTReconDiameter)*ConstPixelDims_CT[0]) - ConstPixelDims_CT[0])/2)"
   ]
  },
  {
   "cell_type": "code",
   "execution_count": null,
   "metadata": {},
   "outputs": [],
   "source": [
    "if padextra > 0:\n",
    "    CTarrayPad = np.pad(CTarrayNew, ((0,0),(0,0),(padextra,padextra),(padextra,padextra)), mode = 'constant', constant_values = (-1000))\n",
    "    print(\"padextra > 0\")\n",
    "elif padextra == 0:\n",
    "    CTarrayPad = np.copy(CTarrayNew)\n",
    "    print(\"padextra = 0\")\n",
    "else:\n",
    "    CTarrayPad = CTarrayNew[:, :, -padextra:padextra, -padextra:padextra]\n",
    "    print(\"padextra < 0\")"
   ]
  },
  {
   "cell_type": "code",
   "execution_count": null,
   "metadata": {},
   "outputs": [],
   "source": [
    "xyZoomFactor = (ConstPixelDims_PET[0]/ConstPixelDims_CT[0])*(CTReconDiameter/PETReconDiameter)"
   ]
  },
  {
   "cell_type": "code",
   "execution_count": null,
   "metadata": {},
   "outputs": [],
   "source": [
    "zZoomFactor = np.size(PETarray,2)/np.size(CTarray,2)"
   ]
  },
  {
   "cell_type": "code",
   "execution_count": null,
   "metadata": {},
   "outputs": [],
   "source": [
    "CTarrayNewResize = zoom(CTarrayPad, (zZoomFactor,1, xyZoomFactor, xyZoomFactor))"
   ]
  },
  {
   "cell_type": "code",
   "execution_count": null,
   "metadata": {},
   "outputs": [],
   "source": [
    "padextra"
   ]
  },
  {
   "cell_type": "code",
   "execution_count": null,
   "metadata": {},
   "outputs": [],
   "source": [
    "s = 99\n",
    "fig = plt.figure(figsize=(6, 6))\n",
    "im1 = plt.imshow(CTarrayPad[s,0,:,:], vmin = -200, vmax = 500, cmap='gray')\n",
    "im1 = plt.clim(-200,300)\n",
    "plt.show()"
   ]
  },
  {
   "cell_type": "code",
   "execution_count": null,
   "metadata": {},
   "outputs": [],
   "source": [
    "for filenameDCM in lstFilesDCM_PET:\n",
    "    dsPET = dicom.read_file(filenameDCM)\n",
    "    ds_Units = dsPET[0x0054,0x1001].value\n",
    "    ds_halfLife = dsPET[0x0054,0x0016][0][0x0018,0x1075].value \n",
    "    ds_PtWeight = dsPET.PatientWeight\n",
    "    ds_PtName = dsPET[0x10,0x10].value\n",
    "    ds_injectedDose = dsPET[0x0054,0x0016][0][0x0018,0x1074].value\n",
    "    ds_seriesDate = dsPET[0x0008,0x0021].value\n",
    "    ds_seriesTime = dsPET[0x0008,0x0031].value\n",
    "    ds_acquisitionDate = dsPET[0x0008,0x0022].value\n",
    "    ds_acquisitionTime = dsPET[0x0008,0x0032].value\n",
    "    ds_scanTime = dsPET[0x0008,0x0031].value\n",
    "    ds_startTime = dsPET[0x0054,0x0016][0][0x0018,0x1072].value\n",
    "    ds_rescaleSlope = dsPET[0x0028,0x1053].value\n",
    "    ds_rescaleIntercept = dsPET[0x0028,0x1052].value"
   ]
  },
  {
   "cell_type": "code",
   "execution_count": null,
   "metadata": {},
   "outputs": [],
   "source": []
  },
  {
   "cell_type": "code",
   "execution_count": null,
   "metadata": {},
   "outputs": [],
   "source": []
  },
  {
   "cell_type": "code",
   "execution_count": null,
   "metadata": {},
   "outputs": [],
   "source": [
    "try:\n",
    "    seriesTimeFormat  = datetime.datetime.strptime(ds_seriesTime, \"%H%M%S\")\n",
    "except:\n",
    "    seriesTimeFormat  = datetime.datetime.strptime(ds_seriesTime, \"%H%M%S.%f\")\n",
    "    \n",
    "try:\n",
    "    acquisitionTimeFormat  = datetime.datetime.strptime(ds_acquisitionTime, \"%H%M%S\")\n",
    "except:\n",
    "    acquisitionTimeFormat  = datetime.datetime.strptime(ds_acquisitionTime, \"%H%M%S.%f\")"
   ]
  },
  {
   "cell_type": "code",
   "execution_count": null,
   "metadata": {},
   "outputs": [],
   "source": []
  },
  {
   "cell_type": "code",
   "execution_count": null,
   "metadata": {},
   "outputs": [],
   "source": [
    "try:\n",
    "    startTimeFormat  = datetime.datetime.strptime(ds_startTime, \"%H%M%S\") # if the time is like this 105600\n",
    "except:\n",
    "    startTimeFormat  = datetime.datetime.strptime(ds_startTime, \"%H%M%S.%f\") # if the time is decimal like this 105600.00\n",
    "\n",
    "try:\n",
    "    scanTimeFormat  = datetime.datetime.strptime(ds_scanTime, \"%H%M%S\")\n",
    "except:\n",
    "    scanTimeFormat  = datetime.datetime.strptime(ds_scanTime, \"%H%M%S.%f\")\n",
    "    \n",
    "    \n",
    "decaytime = (scanTimeFormat - startTimeFormat).total_seconds()"
   ]
  },
  {
   "cell_type": "code",
   "execution_count": null,
   "metadata": {},
   "outputs": [],
   "source": [
    "DecayedDose = ds_injectedDose * pow(2,(-decaytime/ds_halfLife))"
   ]
  },
  {
   "cell_type": "code",
   "execution_count": null,
   "metadata": {},
   "outputs": [],
   "source": [
    "SUVbwScaleFactor = (ds_PtWeight * 1000) / DecayedDose"
   ]
  },
  {
   "cell_type": "code",
   "execution_count": null,
   "metadata": {},
   "outputs": [],
   "source": [
    "PETarrayNewSUVbw = ((PETarrayNew) + ds_rescaleIntercept) * SUVbwScaleFactor\n",
    "#PETarrayNewSUVbw = ((PETarrayNew*ds_rescaleSlope) + ds_rescaleIntercept) * SUVbwScaleFactor # rescaleSlope not needed?"
   ]
  },
  {
   "cell_type": "code",
   "execution_count": null,
   "metadata": {},
   "outputs": [],
   "source": [
    "np.shape(PETarrayNewSUVbw)"
   ]
  },
  {
   "cell_type": "code",
   "execution_count": null,
   "metadata": {},
   "outputs": [],
   "source": [
    "s = 99\n",
    "fig = plt.figure(figsize=(6, 6))\n",
    "im1 = plt.imshow(CTarrayNewResize[s,0,:,:], vmin = -200, vmax = 500, cmap='gray')\n",
    "im1 = plt.clim(-200,300)\n",
    "im2 = plt.imshow(PETarrayNewSUVbw[s,0,:,:],alpha=.5) # transparency is alpha\n",
    "im2 = plt.colorbar()\n",
    "plt.show()"
   ]
  },
  {
   "cell_type": "code",
   "execution_count": null,
   "metadata": {},
   "outputs": [],
   "source": [
    "np.max(PETarrayNewSUVbw[s,0,:,:])"
   ]
  },
  {
   "cell_type": "code",
   "execution_count": null,
   "metadata": {},
   "outputs": [],
   "source": [
    "np.max(PETarrayNewSUVbw[99,0,:,:])"
   ]
  },
  {
   "cell_type": "code",
   "execution_count": null,
   "metadata": {},
   "outputs": [],
   "source": []
  }
 ],
 "metadata": {
  "kernelspec": {
   "display_name": "Python (tensorflowChris)",
   "language": "python",
   "name": "myenv"
  },
  "language_info": {
   "codemirror_mode": {
    "name": "ipython",
    "version": 3
   },
   "file_extension": ".py",
   "mimetype": "text/x-python",
   "name": "python",
   "nbconvert_exporter": "python",
   "pygments_lexer": "ipython3",
   "version": "3.5.6"
  }
 },
 "nbformat": 4,
 "nbformat_minor": 2
}
